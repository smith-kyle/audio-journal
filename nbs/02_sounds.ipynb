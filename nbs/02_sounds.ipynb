{
 "cells": [
  {
   "cell_type": "code",
   "execution_count": null,
   "id": "ff2380c9-b8e8-4f34-8536-d862fad7fe6e",
   "metadata": {},
   "outputs": [],
   "source": [
    "#| default_exp sounds"
   ]
  },
  {
   "cell_type": "code",
   "execution_count": null,
   "id": "b48341f3-d23f-4b9a-aee0-9209f6a8431d",
   "metadata": {},
   "outputs": [],
   "source": [
    "#| export\n",
    "import os\n",
    "from pydub import AudioSegment\n",
    "from pydub.playback import play"
   ]
  },
  {
   "cell_type": "code",
   "execution_count": null,
   "id": "b3f72e89-9ffe-493c-aeea-2bb41072c348",
   "metadata": {},
   "outputs": [],
   "source": [
    "#| export\n",
    "def get_current_dir():\n",
    "    return os.path.dirname(os.path.abspath(__file__))\n",
    "\n",
    "def play_success_sound():\n",
    "    success_song = AudioSegment.from_wav(os.path.join(get_current_dir(), \"beeps/success.wav\"))\n",
    "    play(success_song)\n",
    "\n",
    "def play_error_sound():\n",
    "    error_song = AudioSegment.from_wav(os.path.join(get_current_dir(), \"beeps/error.wav\"))\n",
    "    play(error_song)\n",
    "\n",
    "def play_start_sound():\n",
    "    start_song = AudioSegment.from_wav(os.path.join(get_current_dir(), \"beeps/start.wav\"))\n",
    "    play(start_song)\n",
    "\n",
    "def play_stop_sound():\n",
    "    stop_song = AudioSegment.from_wav(os.path.join(get_current_dir(), \"beeps/stop.wav\"))\n",
    "    play(stop_song)"
   ]
  },
  {
   "cell_type": "code",
   "execution_count": null,
   "id": "db489823-ee92-438c-903e-b60924fce069",
   "metadata": {},
   "outputs": [],
   "source": [
    "#| hide\n",
    "import nbdev; nbdev.nbdev_export()"
   ]
  }
 ],
 "metadata": {
  "kernelspec": {
   "display_name": "python3",
   "language": "python",
   "name": "python3"
  }
 },
 "nbformat": 4,
 "nbformat_minor": 5
}

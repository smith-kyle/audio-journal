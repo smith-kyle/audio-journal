{
 "cells": [
  {
   "cell_type": "code",
   "execution_count": null,
   "id": "05491397-233f-4461-b36d-2dba56167a55",
   "metadata": {},
   "outputs": [],
   "source": [
    "%load_ext autoreload\n",
    "%autoreload 2"
   ]
  },
  {
   "cell_type": "code",
   "execution_count": null,
   "id": "f932d8d0-502b-4c7d-9e0a-f61a5588360c",
   "metadata": {},
   "outputs": [],
   "source": [
    "#| default_exp notion"
   ]
  },
  {
   "cell_type": "code",
   "execution_count": null,
   "id": "cc494117-2571-41a3-8e50-4c5ef5de0fd8",
   "metadata": {},
   "outputs": [],
   "source": [
    "#| export\n",
    "from notion_client import Client\n",
    "import os\n",
    "import datetime"
   ]
  },
  {
   "cell_type": "code",
   "execution_count": null,
   "id": "454471f5-89d1-48a7-b58d-3636acc515f8",
   "metadata": {},
   "outputs": [],
   "source": [
    "#| export\n",
    "def append_to_notion(text):\n",
    "    \"Function to append transcription to Notion document\"\n",
    "\n",
    "    from dotenv import load_dotenv; load_dotenv()\n",
    "\n",
    "    # Set up Notion client\n",
    "    notion = Client(auth=os.environ[\"NOTION_API_KEY\"])\n",
    "    notion_page_id = os.environ[\"NOTION_PAGE_ID\"]\n",
    "     # Split the text into chunks of 2000 characters or less, ensuring no sentence is split\n",
    "    max_chunk_size = 2000\n",
    "    text_chunks = [text[i:i + max_chunk_size] for i in range(0, len(text), max_chunk_size)]\n",
    "    # Define the block object for appending\n",
    "    current_date = datetime.date.today().strftime('%B %d, %Y')\n",
    "    children = [\n",
    "        {\n",
    "            \"object\": \"block\",\n",
    "            \"type\": \"paragraph\",\n",
    "            'paragraph': {\n",
    "                \"rich_text\": [\n",
    "                    {\n",
    "                        \"type\": \"text\",\n",
    "                        \"text\": {\n",
    "                            \"content\": f\"{current_date}\\n\"\n",
    "                        },\n",
    "                        \"annotations\": {\n",
    "                            \"bold\": True\n",
    "                        }\n",
    "                    }\n",
    "                ]\n",
    "            } \n",
    "        } \n",
    "    ]\n",
    "    for chunk in text_chunks:\n",
    "        children[0]['paragraph']['rich_text'].append({\n",
    "                        \"type\": \"text\",\n",
    "                        \"text\": {\n",
    "                            \"content\": chunk\n",
    "                        }\n",
    "        })\n",
    "\n",
    "    # Append the block to the page\n",
    "    notion.blocks.children.append(\n",
    "        block_id=notion_page_id,\n",
    "        children=children\n",
    "    )"
   ]
  },
  {
   "cell_type": "code",
   "execution_count": null,
   "id": "1a4a454e-6bf0-451e-b178-09253438fa86",
   "metadata": {},
   "outputs": [],
   "source": [
    "#| hide\n",
    "import nbdev; nbdev.nbdev_export()"
   ]
  }
 ],
 "metadata": {
  "kernelspec": {
   "display_name": "python3",
   "language": "python",
   "name": "python3"
  }
 },
 "nbformat": 4,
 "nbformat_minor": 5
}

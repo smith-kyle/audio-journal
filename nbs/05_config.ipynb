{
 "cells": [
  {
   "cell_type": "code",
   "execution_count": null,
   "metadata": {},
   "outputs": [],
   "source": [
    "#| default_exp config"
   ]
  },
  {
   "cell_type": "code",
   "execution_count": null,
   "metadata": {},
   "outputs": [],
   "source": [
    "#| export\n",
    "import os\n",
    "from dotenv import load_dotenv\n",
    "from pathlib import Path"
   ]
  },
  {
   "cell_type": "code",
   "execution_count": null,
   "metadata": {},
   "outputs": [],
   "source": [
    "#| export\n",
    "\n",
    "def fetch_env_var(var_name):\n",
    "    # First, check if the environment variable is set\n",
    "    env_var_value = os.getenv(var_name)\n",
    "    if env_var_value is not None:\n",
    "        return env_var_value\n",
    "\n",
    "    # If the environment variable is not set, check in the .env file\n",
    "    env_path = Path.home() / '.audio-journal' / 'config'\n",
    "    if not env_path.is_file():\n",
    "        print(f\"Error: {env_path} does not exist.\")\n",
    "        print(\"Please create this file with the format:\")\n",
    "        print('\\n'.join([\n",
    "            'NOTION_API_KEY=\"XXXXXXXXXXXXXXXXXXXXXXXXXXXXXXXXXXXXXXXXXXXXXXXXXX\"',\n",
    "            'NOTION_PAGE_ID=\"XXXXXXXXXXXXXXXXXXXXXXXXXXXXXXXX\"'\n",
    "        ]))\n",
    "        exit(1)\n",
    "\n",
    "    load_dotenv(dotenv_path=env_path, override=True)\n",
    "\n",
    "    env_var_value = os.getenv(var_name)\n",
    "    if env_var_value is None:\n",
    "        print(f\"Error: {var_name} not found in environment variables or {env_path}.\")\n",
    "        print(\"Please add it to the file or set it as an environment variable.\")\n",
    "        exit(1)"
   ]
  },
  {
   "cell_type": "code",
   "execution_count": null,
   "metadata": {},
   "outputs": [],
   "source": [
    "#| hide\n",
    "import nbdev; nbdev.nbdev_export()"
   ]
  }
 ],
 "metadata": {
  "kernelspec": {
   "display_name": "python3",
   "language": "python",
   "name": "python3"
  }
 },
 "nbformat": 4,
 "nbformat_minor": 2
}

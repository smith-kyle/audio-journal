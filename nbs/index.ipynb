{
 "cells": [
  {
   "attachments": {},
   "cell_type": "markdown",
   "metadata": {},
   "source": [
    "# :studio_microphone: Notion Audio Journal\n",
    "\n"
   ]
  },
  {
   "attachments": {},
   "cell_type": "markdown",
   "metadata": {},
   "source": [
    "## Getting started\n",
    "\n",
    "```bash\n",
    "pip install audio-journal\n",
    "```\n",
    "After you've update the `~/.audio-journal/config` with your [page ID](https://github.com/ramnes/notion-sdk-py/discussions/31) and [integration key](https://www.notion.so/my-integrations)\n",
    "\n",
    "```bash\n",
    "audio_journal_start\n",
    "```"
   ]
  },
  {
   "attachments": {},
   "cell_type": "markdown",
   "metadata": {},
   "source": [
    "> Want to journal more? Hate writing by hand?\n",
    "\n",
    "## How it works\n",
    "\n",
    "1. Hit space to record\n",
    "2. Say your peace\n",
    "3. Hit space again to stop\n",
    "\n",
    "Your audio will be trascribed on-device and uploaded directly to Notion.\n",
    "\n",
    "https://user-images.githubusercontent.com/5474861/236587909-a7b0578b-b742-4571-80a2-65e249c43fca.mp4\n",
    "\n",
    "## Why?\n",
    "\n",
    "I wish I journaled more often. The ability to look back through the years, reflect and remember events long past is invaluable.\n",
    "\n",
    "While the benefits of hand written journaling are clear, forcing one to slow down, to organize one's thoughts, I find the 5x slow down makes it a non-starter. So instead lets optimize for gross word count!\n",
    "\n",
    "## Future work\n",
    "\n",
    "- Offer an alternative storage option\n",
    "- Interface with a mic, always on, wait for wake word"
   ]
  }
 ],
 "metadata": {
  "kernelspec": {
   "display_name": "python3",
   "language": "python",
   "name": "python3"
  }
 },
 "nbformat": 4,
 "nbformat_minor": 4
}

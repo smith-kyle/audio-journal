{
 "cells": [
  {
   "cell_type": "code",
   "execution_count": null,
   "id": "9e2b52c1-b02c-4dfe-90ed-e429062d1b31",
   "metadata": {},
   "outputs": [],
   "source": [
    "#| default_exp transcribe"
   ]
  },
  {
   "cell_type": "code",
   "execution_count": null,
   "id": "fa6ca5bb-3465-4bce-92a9-a7641bb1413f",
   "metadata": {},
   "outputs": [],
   "source": [
    "#| export\n",
    "\n",
    "import os\n",
    "import whisper\n",
    "import time\n",
    "from audio_journal.sounds import *\n",
    "from audio_journal import notion\n",
    "from audio_journal.notify import send_email\n",
    "from audio_journal.gpt import generate_quote"
   ]
  },
  {
   "cell_type": "code",
   "execution_count": null,
   "id": "a911f90e-559d-4fe2-bbbc-63a0d5d20520",
   "metadata": {},
   "outputs": [],
   "source": [
    "#| export\n",
    "\n",
    "# Function to transcribe audio\n",
    "def transcribe_audio(filename):\n",
    "    # Load the Whisper model\n",
    "    model = whisper.load_model(\"small.en\")\n",
    "    result = model.transcribe(filename)\n",
    "    return result[\"text\"]\n",
    "\n",
    "def transcribing_process():\n",
    "    while True:\n",
    "        try:\n",
    "            time.sleep(5)\n",
    "            print(\"Checking for completed recordings...\")\n",
    "            for file in os.listdir(\"completed_recordings\"):\n",
    "                if file.endswith(\".wav\"):\n",
    "                    audio_file_path = os.path.join(\"completed_recordings\", file)\n",
    "                    print(f\"Transcribing {audio_file_path}\")\n",
    "                    transcription = transcribe_audio(audio_file_path)\n",
    "                    print(\"Transcription:\", transcription)\n",
    "                    notion.append_to_notion(transcription)\n",
    "                    os.remove(audio_file_path)\n",
    "                    print(f\"Transcription uploaded to Notion and {audio_file_path} deleted.\")\n",
    "                    quote = generate_quote(transcription)\n",
    "                    send_email(\"Daily journal\", quote)\n",
    "        except Exception as e:\n",
    "            print(e)\n",
    "            print(f\"Error while transcribing and uploading audio. Trying again in 5 seconds...\")"
   ]
  },
  {
   "cell_type": "code",
   "execution_count": null,
   "id": "e0b1e017",
   "metadata": {},
   "outputs": [],
   "source": [
    "#| hide\n",
    "import nbdev; nbdev.nbdev_export()"
   ]
  }
 ],
 "metadata": {
  "kernelspec": {
   "display_name": "python3",
   "language": "python",
   "name": "python3"
  }
 },
 "nbformat": 4,
 "nbformat_minor": 5
}

{
 "cells": [
  {
   "cell_type": "code",
   "execution_count": null,
   "metadata": {},
   "outputs": [],
   "source": [
    "#| default_exp notify"
   ]
  },
  {
   "cell_type": "code",
   "execution_count": null,
   "metadata": {},
   "outputs": [],
   "source": [
    "#| export\n",
    "import smtplib\n",
    "from email.mime.multipart import MIMEMultipart\n",
    "from email.mime.text import MIMEText\n",
    "from audio_journal.config import fetch_env_var"
   ]
  },
  {
   "cell_type": "code",
   "execution_count": null,
   "metadata": {},
   "outputs": [],
   "source": [
    "#| export\n",
    "\n",
    "def send_email(subject: str, body: str) -> None:\n",
    "    # Set up your email details\n",
    "    smtp_server = fetch_env_var(\"EMAIL_SERVER\")\n",
    "    smtp_port = 587\n",
    "    email = fetch_env_var(\"EMAIL_USERNAME\")\n",
    "    password = fetch_env_var(\"EMAIL_PASSWORD\")\n",
    "    to_email = fetch_env_var(\"EMAIL_RECIPIENT\")\n",
    "\n",
    "    # Create a MIME multipart message\n",
    "    msg = MIMEMultipart()\n",
    "    msg['From'] = email\n",
    "    msg['To'] = to_email\n",
    "    msg['Subject'] = subject\n",
    "\n",
    "    # Body of the email\n",
    "    msg.attach(MIMEText(body, 'plain'))\n",
    "\n",
    "    try:\n",
    "        # Establish a secure session\n",
    "        server = smtplib.SMTP(smtp_server, smtp_port)\n",
    "        server.starttls()\n",
    "\n",
    "        # Login to your email account\n",
    "        server.login(email, password)\n",
    "\n",
    "        # Send the email\n",
    "        text = msg.as_string()\n",
    "        server.sendmail(email, to_email, text)\n",
    "\n",
    "        # Close the connection\n",
    "        server.quit()\n",
    "\n",
    "        print('Email sent successfully.')\n",
    "\n",
    "    except Exception as e:\n",
    "        print('Failed to send email: ' + str(e))"
   ]
  },
  {
   "cell_type": "code",
   "execution_count": null,
   "metadata": {},
   "outputs": [
    {
     "name": "stdout",
     "output_type": "stream",
     "text": [
      "Email sent successfully.\n"
     ]
    }
   ],
   "source": [
    "#| eval: false\n",
    "send_email(\"Test email\", \"No body\")"
   ]
  },
  {
   "cell_type": "code",
   "execution_count": null,
   "metadata": {},
   "outputs": [],
   "source": [
    "#| hide\n",
    "import nbdev; nbdev.nbdev_export()"
   ]
  }
 ],
 "metadata": {
  "kernelspec": {
   "display_name": "python3",
   "language": "python",
   "name": "python3"
  }
 },
 "nbformat": 4,
 "nbformat_minor": 2
}

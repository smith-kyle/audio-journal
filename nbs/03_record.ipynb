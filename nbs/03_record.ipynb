{
 "cells": [
  {
   "cell_type": "code",
   "execution_count": null,
   "id": "5dc78cf2-f81e-473c-8d67-1947d4bed886",
   "metadata": {},
   "outputs": [],
   "source": [
    "#| default_exp record"
   ]
  },
  {
   "cell_type": "code",
   "execution_count": null,
   "id": "f69964c8-09bd-44e9-9fe6-951d33dc8eb2",
   "metadata": {},
   "outputs": [],
   "source": [
    "#| export\n",
    "import queue\n",
    "import soundfile as sf\n",
    "import sys\n",
    "import os\n",
    "import shutil\n",
    "import datetime\n",
    "from audio_journal.sounds import play_start_sound, play_stop_sound"
   ]
  },
  {
   "cell_type": "code",
   "execution_count": null,
   "id": "a526f07e-52aa-4873-b73b-47ef3e9f6e31",
   "metadata": {},
   "outputs": [],
   "source": [
    "#| export\n",
    "def record_audio(filename):\n",
    "    import sounddevice as sd\n",
    "    sample_rate = 44100\n",
    "    channels = 1\n",
    "    q = queue.Queue()\n",
    "\n",
    "\n",
    "    def audio_callback(indata, frames, time, status):\n",
    "        if status:\n",
    "            print(status, file=sys.stderr)\n",
    "        q.put(indata.copy())\n",
    "\n",
    "    try:\n",
    "        with sf.SoundFile(filename, mode='x', samplerate=sample_rate,\n",
    "                          channels=channels, subtype='PCM_24') as file:\n",
    "            with sd.InputStream(samplerate=sample_rate, channels=channels, callback=audio_callback):\n",
    "                print(\"Waiting for keyboard input now...\")\n",
    "                input()\n",
    "                sd.stop()\n",
    "                while not q.empty():\n",
    "                    file.write(q.get())\n",
    "    except Exception as e:\n",
    "        print(f\"Error while recording audio: {e}\")"
   ]
  },
  {
   "cell_type": "code",
   "execution_count": null,
   "id": "b9c0515f-4ea9-4cde-8754-26ae31ece91b",
   "metadata": {},
   "outputs": [],
   "source": [
    "#| export\n",
    "\n",
    "def recording_process():\n",
    "    os.makedirs(\"temp_recordings\", exist_ok=True)\n",
    "    os.makedirs(\"completed_recordings\", exist_ok=True)\n",
    "    while True:\n",
    "        print(\"Press the space key to start recording...\")\n",
    "        input()\n",
    "        play_start_sound()\n",
    "        print(\"Recording... Press the space key to stop recording.\")\n",
    "        current_date_time = datetime.datetime.now().strftime(\"%B %d, %Y %H-%M-%S\")\n",
    "        temp_audio_filename = f\"temp_recordings/audio_{current_date_time}.wav\"\n",
    "        completed_audio_filename = f\"completed_recordings/audio_{current_date_time}.wav\"\n",
    "        record_audio(temp_audio_filename)\n",
    "        play_stop_sound()\n",
    "        shutil.move(temp_audio_filename, completed_audio_filename)\n",
    "        print(f\"Audio recorded and saved to {completed_audio_filename}\")"
   ]
  },
  {
   "cell_type": "code",
   "execution_count": null,
   "id": "f1ab52bf",
   "metadata": {},
   "outputs": [],
   "source": [
    "#| hide\n",
    "import nbdev; nbdev.nbdev_export()"
   ]
  }
 ],
 "metadata": {
  "kernelspec": {
   "display_name": "python3",
   "language": "python",
   "name": "python3"
  }
 },
 "nbformat": 4,
 "nbformat_minor": 5
}

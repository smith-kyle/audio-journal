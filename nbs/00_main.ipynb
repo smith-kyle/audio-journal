{
 "cells": [
  {
   "attachments": {},
   "cell_type": "markdown",
   "metadata": {},
   "source": [
    "# main\n",
    "\n",
    "> main module"
   ]
  },
  {
   "cell_type": "code",
   "execution_count": null,
   "metadata": {},
   "outputs": [],
   "source": [
    "%load_ext autoreload\n",
    "%autoreload 2"
   ]
  },
  {
   "cell_type": "code",
   "execution_count": null,
   "metadata": {},
   "outputs": [],
   "source": [
    "#| default_exp main"
   ]
  },
  {
   "cell_type": "code",
   "execution_count": null,
   "metadata": {},
   "outputs": [
    {
     "name": "stderr",
     "output_type": "stream",
     "text": [
      "/Users/kyle/git-projects/audio-journal/.venv/lib/python3.10/site-packages/whisper/timing.py:58: NumbaDeprecationWarning: The 'nopython' keyword argument was not supplied to the 'numba.jit' decorator. The implicit default value for this argument is currently False, but it will be changed to True in Numba 0.59.0. See https://numba.readthedocs.io/en/stable/reference/deprecation.html#deprecation-of-object-mode-fall-back-behaviour-when-using-jit for details.\n",
      "  def backtrace(trace: np.ndarray):\n"
     ]
    }
   ],
   "source": [
    "#| export\n",
    "import multiprocessing\n",
    "from audio_journal.record import recording_process\n",
    "from audio_journal.transcribe import transcribing_process\n",
    "from audio_journal.sounds import play_error_sound"
   ]
  },
  {
   "attachments": {},
   "cell_type": "markdown",
   "metadata": {},
   "source": [
    "This is the entry point for the application. It starts two processes\n",
    "1. A recording process that will save input audio to a file\n",
    "2. A transcribing process that will watch for new recordings, and transcribe and upload them if found."
   ]
  },
  {
   "cell_type": "code",
   "execution_count": null,
   "metadata": {},
   "outputs": [],
   "source": [
    "#| export\n",
    "def start() -> None:\n",
    "    try:\n",
    "        # Start the transcribing process in a separate process\n",
    "        transcribe_process = multiprocessing.Process(target=transcribing_process)\n",
    "        transcribe_process.start()\n",
    "\n",
    "        # Run the recording process in the main process\n",
    "        recording_process()\n",
    "\n",
    "        # Wait for the transcribing process to finish\n",
    "        transcribe_process.join()\n",
    "\n",
    "    # Catch any kind of error and play error sound\n",
    "    except Exception as e:\n",
    "        play_error_sound()\n",
    "        print(e)"
   ]
  },
  {
   "cell_type": "code",
   "execution_count": null,
   "metadata": {},
   "outputs": [],
   "source": [
    "#| hide\n",
    "import nbdev; nbdev.nbdev_export()"
   ]
  }
 ],
 "metadata": {
  "kernelspec": {
   "display_name": "python3",
   "language": "python",
   "name": "python3"
  }
 },
 "nbformat": 4,
 "nbformat_minor": 4
}

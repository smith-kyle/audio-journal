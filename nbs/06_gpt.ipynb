{
 "cells": [
  {
   "cell_type": "code",
   "execution_count": null,
   "metadata": {},
   "outputs": [],
   "source": [
    "#| default_exp gpt"
   ]
  },
  {
   "cell_type": "code",
   "execution_count": null,
   "metadata": {},
   "outputs": [],
   "source": [
    "#| export\n",
    "import os\n",
    "from audio_journal.config import fetch_env_var"
   ]
  },
  {
   "cell_type": "code",
   "execution_count": null,
   "metadata": {},
   "outputs": [],
   "source": [
    "#| export\n",
    "\n",
    "def generate_quote(journal_entry: str) -> str:\n",
    "    import openai\n",
    "    # Set openai.api_key to the OPENAI environment variable\n",
    "    openai.api_key = fetch_env_var(\"OPENAI_API_KEY\")\n",
    "\n",
    "    # Define system and user messages\n",
    "    messages = [\n",
    "        {\"role\": \"system\", \"content\": \"You are a helpful assistant that provides an inspiring, motivational, and encouraging quote relevant to a given journal entry.\"},\n",
    "        {\"role\": \"user\", \"content\": f\"Please provide a motivational, inspiring, or encouraging quote relevant to this journal entry: '{journal_entry}'\"},\n",
    "        {\"role\": \"user\", \"content\": f\"After you have provided the quote, please provide specific excerpts from the journal entry that relate to the quote. Do not explain how the excerpts are relevant.\"}\n",
    "    ]\n",
    "\n",
    "    # Make the API call\n",
    "    response = openai.ChatCompletion.create(\n",
    "        model=\"gpt-4\",  # use the correct model name for GPT-4\n",
    "        messages=messages\n",
    "    )\n",
    "\n",
    "    # Extract the generated message\n",
    "    return response[\"choices\"][0][\"message\"][\"content\"]"
   ]
  },
  {
   "cell_type": "code",
   "execution_count": null,
   "metadata": {},
   "outputs": [
    {
     "name": "stdout",
     "output_type": "stream",
     "text": [
      "\"Life is either a daring adventure or nothing at all.\" - Helen Keller\n",
      "\n",
      "Excerpts:\n",
      "- jumped in the frigid waters of Ocean Beach\n",
      "- pushed out some changes to this journaling app\n",
      "- played games with friends\n",
      "- meditated\n"
     ]
    }
   ],
   "source": [
    "#| eval: false\n",
    "quote = generate_quote(\"Today was a great day. I jumped in the friged waters of Ocean Beach, I pushed out some changes to this journaling app. I played games with friends and meditated.\")\n",
    "print(quote)"
   ]
  },
  {
   "cell_type": "code",
   "execution_count": null,
   "metadata": {},
   "outputs": [],
   "source": [
    "#| hide\n",
    "import nbdev; nbdev.nbdev_export()"
   ]
  }
 ],
 "metadata": {
  "kernelspec": {
   "display_name": "python3",
   "language": "python",
   "name": "python3"
  }
 },
 "nbformat": 4,
 "nbformat_minor": 2
}
